{
  "nbformat": 4,
  "nbformat_minor": 0,
  "metadata": {
    "colab": {
      "name": "Analysis_of_Images_in_Fish_Datasets.ipynb",
      "provenance": [],
      "collapsed_sections": [],
      "machine_shape": "hm",
      "authorship_tag": "ABX9TyPGuJFxGRRHCysYKBTwBaj+",
      "include_colab_link": true
    },
    "kernelspec": {
      "name": "python3",
      "display_name": "Python 3"
    },
    "language_info": {
      "name": "python"
    }
  },
  "cells": [
    {
      "cell_type": "markdown",
      "metadata": {
        "id": "view-in-github",
        "colab_type": "text"
      },
      "source": [
        "<a href=\"https://colab.research.google.com/github/Animesh3193/Fish_Dataset_Kaggle/blob/main/Analysis_of_Images_in_Fish_Datasets.ipynb\" target=\"_parent\"><img src=\"https://colab.research.google.com/assets/colab-badge.svg\" alt=\"Open In Colab\"/></a>"
      ]
    },
    {
      "cell_type": "markdown",
      "metadata": {
        "id": "B4etxCIjQXR7"
      },
      "source": [
        "## Large Dataset of Fish\n",
        "\n",
        "We have downloaded data from kaggle dataset [link](https://www.kaggle.com/crowww/a-large-scale-fish-dataset)\n",
        "\n",
        ">This dataset contains 9 different seafood types collected from a supermarket in Izmir, Turkey\n",
        "for a university-industry collaboration project at Izmir University of Economics, and this work\n",
        "was published in ASYU 2020.\n",
        "Dataset includes, gilt head bream, red sea bream, sea bass, red mullet, horse mackerel, \n",
        "black sea sprat, striped red mullet, trout, shrimp image samples. \n",
        "\n",
        "```\n",
        "@inproceedings{ulucan2020large,\n",
        "  title={A Large-Scale Dataset for Fish Segmentation and Classification},\n",
        "  author={Ulucan, Oguzhan and Karakaya, Diclehan and Turkan, Mehmet},\n",
        "  booktitle={2020 Innovations in Intelligent Systems and Applications Conference (ASYU)},\n",
        "  pages={1--5},\n",
        "  year={2020},\n",
        "  organization={IEEE}\n",
        "}\n",
        "```\n",
        "\n",
        "### Description of the data in this data set\n",
        "The dataset contains 9 different seafood types. For each class, there are 1000 augmented images and their pair-waise augmented ground truths.\n",
        "Each class can be found in the \"Fish_Dataset\" file with their ground truth labels. All images for each class are ordered from \"00000.png\" to \"01000.png\".\n",
        " \n",
        "For example, if you want to access the ground truth images of the shrimp in the dataset, the order should be followed is \"Fish->Shrimp->Shrimp GT\". \n",
        " \n",
        "\n",
        " >Module to be Downloaded and installed are \n",
        " `kaggle` `pandas` `numpy`"
      ]
    },
    {
      "cell_type": "code",
      "metadata": {
        "id": "8mvv57GW9gnI"
      },
      "source": [
        "import pandas as pd\n",
        "import numpy as np\n",
        "from pathlib import Path\n",
        "import requests\n",
        "import kaggle"
      ],
      "execution_count": 6,
      "outputs": []
    },
    {
      "cell_type": "code",
      "metadata": {
        "colab": {
          "base_uri": "https://localhost:8080/"
        },
        "id": "0-GU2b1bFmZ9",
        "outputId": "933d2908-4175-4e7e-dc5c-df51c13d0315"
      },
      "source": [
        "from kaggle import api\n",
        "api.authenticate()\n",
        "api.dataset_download_files('crowww/a-large-scale-fish-dataset', '.')"
      ],
      "execution_count": 4,
      "outputs": [
        {
          "output_type": "stream",
          "text": [
            "Warning: Your Kaggle API key is readable by other users on this system! To fix this, you can run 'chmod 600 /root/.kaggle/kaggle.json'\n"
          ],
          "name": "stdout"
        }
      ]
    },
    {
      "cell_type": "code",
      "metadata": {
        "id": "_8ocB5hfPuoH"
      },
      "source": [
        "path_details = Path('/content/large_scale_fish')"
      ],
      "execution_count": 7,
      "outputs": []
    },
    {
      "cell_type": "code",
      "metadata": {
        "id": "ddYY5jTOSL_C"
      },
      "source": [
        ""
      ],
      "execution_count": null,
      "outputs": []
    }
  ]
}